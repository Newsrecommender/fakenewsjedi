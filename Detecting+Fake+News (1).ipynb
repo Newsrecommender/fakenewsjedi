{
 "cells": [
  {
   "cell_type": "markdown",
   "metadata": {},
   "source": [
    "## Random Forest With Only Fake Data"
   ]
  },
  {
   "cell_type": "code",
   "execution_count": 7,
   "metadata": {
    "collapsed": true
   },
   "outputs": [],
   "source": [
    "import numpy as np \n",
    "import pandas as pd \n",
    "\n",
    "import matplotlib.pyplot as plt\n",
    "import matplotlib\n",
    "matplotlib.style.use('ggplot')\n",
    "%matplotlib inline"
   ]
  },
  {
   "cell_type": "code",
   "execution_count": 3,
   "metadata": {
    "collapsed": false
   },
   "outputs": [
    {
     "name": "stdout",
     "output_type": "stream",
     "text": [
      "/Users/clifford/Downloads\n"
     ]
    }
   ],
   "source": [
    "cd Downloads"
   ]
  },
  {
   "cell_type": "code",
   "execution_count": 10,
   "metadata": {
    "collapsed": true
   },
   "outputs": [],
   "source": [
    "fake_news = pd.read_csv('fake.csv')"
   ]
  },
  {
   "cell_type": "code",
   "execution_count": 13,
   "metadata": {
    "collapsed": false
   },
   "outputs": [
    {
     "data": {
      "text/plain": [
       "array(['bias', 'conspiracy', 'fake', 'bs', 'satire', 'hate', 'junksci',\n",
       "       'state'], dtype=object)"
      ]
     },
     "execution_count": 13,
     "metadata": {},
     "output_type": "execute_result"
    }
   ],
   "source": [
    "fake_news.type.unique()"
   ]
  },
  {
   "cell_type": "code",
   "execution_count": 14,
   "metadata": {
    "collapsed": true
   },
   "outputs": [],
   "source": [
    "types = ['bias', 'conspiracy', 'fake', 'bs', 'satire', 'hate', 'junksci',\n",
    "       'state']"
   ]
  },
  {
   "cell_type": "code",
   "execution_count": 16,
   "metadata": {
    "collapsed": true
   },
   "outputs": [],
   "source": [
    "p = []\n",
    "for i in types:\n",
    "    r = fake_news.loc[fake_news['type'] == i ]['shares'].count()\n",
    "    p.append(r)"
   ]
  },
  {
   "cell_type": "code",
   "execution_count": 17,
   "metadata": {
    "collapsed": false
   },
   "outputs": [
    {
     "data": {
      "text/plain": [
       "[443, 430, 19, 11492, 146, 246, 102, 121]"
      ]
     },
     "execution_count": 17,
     "metadata": {},
     "output_type": "execute_result"
    }
   ],
   "source": [
    "p"
   ]
  },
  {
   "cell_type": "code",
   "execution_count": null,
   "metadata": {
    "collapsed": true
   },
   "outputs": [],
   "source": []
  },
  {
   "cell_type": "code",
   "execution_count": 95,
   "metadata": {
    "collapsed": false
   },
   "outputs": [
    {
     "ename": "AttributeError",
     "evalue": "'numpy.int64' object has no attribute 'plot'",
     "output_type": "error",
     "traceback": [
      "\u001b[0;31m---------------------------------------------------------------------------\u001b[0m",
      "\u001b[0;31mAttributeError\u001b[0m                            Traceback (most recent call last)",
      "\u001b[0;32m<ipython-input-95-46fe42f55626>\u001b[0m in \u001b[0;36m<module>\u001b[0;34m()\u001b[0m\n\u001b[1;32m      1\u001b[0m \u001b[0;32mimport\u001b[0m \u001b[0mmatplotlib\u001b[0m\u001b[0;34m.\u001b[0m\u001b[0mpyplot\u001b[0m \u001b[0;32mas\u001b[0m \u001b[0mplt\u001b[0m\u001b[0;34m\u001b[0m\u001b[0m\n\u001b[0;32m----> 2\u001b[0;31m \u001b[0mtrain\u001b[0m\u001b[0;34m[\u001b[0m\u001b[0;34m'author'\u001b[0m\u001b[0;34m]\u001b[0m\u001b[0;34m.\u001b[0m\u001b[0mcount\u001b[0m\u001b[0;34m(\u001b[0m\u001b[0;34m)\u001b[0m\u001b[0;34m.\u001b[0m\u001b[0mplot\u001b[0m\u001b[0;34m(\u001b[0m\u001b[0mkind\u001b[0m\u001b[0;34m=\u001b[0m\u001b[0;34m'bar'\u001b[0m\u001b[0;34m)\u001b[0m\u001b[0;34m\u001b[0m\u001b[0m\n\u001b[0m",
      "\u001b[0;31mAttributeError\u001b[0m: 'numpy.int64' object has no attribute 'plot'"
     ]
    }
   ],
   "source": [
    "import matplotlib.pyplot as plt\n",
    "train['author'].count().plot(kind='bar')"
   ]
  },
  {
   "cell_type": "code",
   "execution_count": 96,
   "metadata": {
    "collapsed": false
   },
   "outputs": [
    {
     "data": {
      "text/html": [
       "<div>\n",
       "<table border=\"1\" class=\"dataframe\">\n",
       "  <thead>\n",
       "    <tr style=\"text-align: right;\">\n",
       "      <th></th>\n",
       "      <th>uuid</th>\n",
       "      <th>ord_in_thread</th>\n",
       "      <th>author</th>\n",
       "      <th>published</th>\n",
       "      <th>title</th>\n",
       "      <th>text</th>\n",
       "      <th>language</th>\n",
       "      <th>crawled</th>\n",
       "      <th>site_url</th>\n",
       "      <th>country</th>\n",
       "      <th>domain_rank</th>\n",
       "      <th>thread_title</th>\n",
       "      <th>spam_score</th>\n",
       "      <th>main_img_url</th>\n",
       "      <th>replies_count</th>\n",
       "      <th>participants_count</th>\n",
       "      <th>likes</th>\n",
       "      <th>comments</th>\n",
       "      <th>shares</th>\n",
       "      <th>type</th>\n",
       "    </tr>\n",
       "  </thead>\n",
       "  <tbody>\n",
       "    <tr>\n",
       "      <th>8765</th>\n",
       "      <td>306ba8132a50f242682be2f12f27a79b3cb73603</td>\n",
       "      <td>0</td>\n",
       "      <td>Elijah Johnson</td>\n",
       "      <td>2016-11-03T15:21:25.432+02:00</td>\n",
       "      <td>INTERNAL COUP AGAINST HILLARY? | Jason Burack</td>\n",
       "      <td>Home » SD Podcast » INTERNAL COUP AGAINST HILL...</td>\n",
       "      <td>english</td>\n",
       "      <td>2016-11-03T15:21:25.432+02:00</td>\n",
       "      <td>silverdoctors.com</td>\n",
       "      <td>US</td>\n",
       "      <td>62759.0</td>\n",
       "      <td>INTERNAL COUP AGAINST HILLARY? | Jason Burack</td>\n",
       "      <td>0.000</td>\n",
       "      <td>NaN</td>\n",
       "      <td>0</td>\n",
       "      <td>1</td>\n",
       "      <td>0</td>\n",
       "      <td>0</td>\n",
       "      <td>0</td>\n",
       "      <td>bs</td>\n",
       "    </tr>\n",
       "    <tr>\n",
       "      <th>6284</th>\n",
       "      <td>4442f1a02fb844b92f1f364763602c34ceb708ef</td>\n",
       "      <td>0</td>\n",
       "      <td>Outis Philalithopoulos</td>\n",
       "      <td>2016-11-07T12:08:56.451+02:00</td>\n",
       "      <td>Neoliberalism’s Border Guard</td>\n",
       "      <td>by Outis Philalithopoulos In the most recent e...</td>\n",
       "      <td>english</td>\n",
       "      <td>2016-11-07T12:08:56.451+02:00</td>\n",
       "      <td>nakedcapitalism.com</td>\n",
       "      <td>US</td>\n",
       "      <td>54210.0</td>\n",
       "      <td>Neoliberalism’s Border Guard</td>\n",
       "      <td>0.000</td>\n",
       "      <td>NaN</td>\n",
       "      <td>0</td>\n",
       "      <td>1</td>\n",
       "      <td>0</td>\n",
       "      <td>0</td>\n",
       "      <td>0</td>\n",
       "      <td>bs</td>\n",
       "    </tr>\n",
       "    <tr>\n",
       "      <th>4232</th>\n",
       "      <td>fa73df80922b66d79d6e2e3b71cb1dd3c727e179</td>\n",
       "      <td>0</td>\n",
       "      <td>Dyanne Weiss</td>\n",
       "      <td>2016-11-03T04:14:00.000+02:00</td>\n",
       "      <td>New Play Vicuña Portrays Trump in “Emperor’s N...</td>\n",
       "      <td>“Vicuña,” the new play that opened Sunday at K...</td>\n",
       "      <td>english</td>\n",
       "      <td>2016-11-03T08:01:10.074+02:00</td>\n",
       "      <td>guardianlv.com</td>\n",
       "      <td>US</td>\n",
       "      <td>51784.0</td>\n",
       "      <td>New Play Vicuña Portrays Trump in “Emperor’s N...</td>\n",
       "      <td>0.081</td>\n",
       "      <td>http://guardianlv.com/wp-content/uploads/2016/...</td>\n",
       "      <td>0</td>\n",
       "      <td>1</td>\n",
       "      <td>0</td>\n",
       "      <td>0</td>\n",
       "      <td>0</td>\n",
       "      <td>bs</td>\n",
       "    </tr>\n",
       "    <tr>\n",
       "      <th>10315</th>\n",
       "      <td>6008d583a602e1100a46360b5753825b2ffb05ca</td>\n",
       "      <td>0</td>\n",
       "      <td>The Saker</td>\n",
       "      <td>2016-11-01T21:22:00.000+02:00</td>\n",
       "      <td>CrossTalk: Bullhorns Fact-checking</td>\n",
       "      <td>Be the First to Comment! Leave a Reply Click h...</td>\n",
       "      <td>english</td>\n",
       "      <td>2016-11-03T01:18:44.835+02:00</td>\n",
       "      <td>thesaker.is</td>\n",
       "      <td>IS</td>\n",
       "      <td>NaN</td>\n",
       "      <td>CrossTalk: Bullhorns Fact-checking</td>\n",
       "      <td>0.000</td>\n",
       "      <td>NaN</td>\n",
       "      <td>0</td>\n",
       "      <td>1</td>\n",
       "      <td>0</td>\n",
       "      <td>0</td>\n",
       "      <td>0</td>\n",
       "      <td>bs</td>\n",
       "    </tr>\n",
       "    <tr>\n",
       "      <th>2099</th>\n",
       "      <td>1eae08ec1fa28ffc71fef374fb18072504973529</td>\n",
       "      <td>0</td>\n",
       "      <td>dailouk</td>\n",
       "      <td>2016-11-19T17:38:00.000+02:00</td>\n",
       "      <td>Globe Still Has Two Months Under Obama</td>\n",
       "      <td>Home | World | Globe Still Has Two Months Unde...</td>\n",
       "      <td>english</td>\n",
       "      <td>2016-11-20T06:59:15.052+02:00</td>\n",
       "      <td>dailysquib.co.uk</td>\n",
       "      <td>GB</td>\n",
       "      <td>NaN</td>\n",
       "      <td>Globe Still Has Two Months Under Obama</td>\n",
       "      <td>0.000</td>\n",
       "      <td>http://www.dailysquib.co.uk/wp-content/uploads...</td>\n",
       "      <td>0</td>\n",
       "      <td>1</td>\n",
       "      <td>0</td>\n",
       "      <td>0</td>\n",
       "      <td>0</td>\n",
       "      <td>bs</td>\n",
       "    </tr>\n",
       "  </tbody>\n",
       "</table>\n",
       "</div>"
      ],
      "text/plain": [
       "                                           uuid  ord_in_thread  \\\n",
       "8765   306ba8132a50f242682be2f12f27a79b3cb73603              0   \n",
       "6284   4442f1a02fb844b92f1f364763602c34ceb708ef              0   \n",
       "4232   fa73df80922b66d79d6e2e3b71cb1dd3c727e179              0   \n",
       "10315  6008d583a602e1100a46360b5753825b2ffb05ca              0   \n",
       "2099   1eae08ec1fa28ffc71fef374fb18072504973529              0   \n",
       "\n",
       "                       author                      published  \\\n",
       "8765           Elijah Johnson  2016-11-03T15:21:25.432+02:00   \n",
       "6284   Outis Philalithopoulos  2016-11-07T12:08:56.451+02:00   \n",
       "4232             Dyanne Weiss  2016-11-03T04:14:00.000+02:00   \n",
       "10315               The Saker  2016-11-01T21:22:00.000+02:00   \n",
       "2099                  dailouk  2016-11-19T17:38:00.000+02:00   \n",
       "\n",
       "                                                   title  \\\n",
       "8765       INTERNAL COUP AGAINST HILLARY? | Jason Burack   \n",
       "6284                        Neoliberalism’s Border Guard   \n",
       "4232   New Play Vicuña Portrays Trump in “Emperor’s N...   \n",
       "10315                 CrossTalk: Bullhorns Fact-checking   \n",
       "2099              Globe Still Has Two Months Under Obama   \n",
       "\n",
       "                                                    text language  \\\n",
       "8765   Home » SD Podcast » INTERNAL COUP AGAINST HILL...  english   \n",
       "6284   by Outis Philalithopoulos In the most recent e...  english   \n",
       "4232   “Vicuña,” the new play that opened Sunday at K...  english   \n",
       "10315  Be the First to Comment! Leave a Reply Click h...  english   \n",
       "2099   Home | World | Globe Still Has Two Months Unde...  english   \n",
       "\n",
       "                             crawled             site_url country  \\\n",
       "8765   2016-11-03T15:21:25.432+02:00    silverdoctors.com      US   \n",
       "6284   2016-11-07T12:08:56.451+02:00  nakedcapitalism.com      US   \n",
       "4232   2016-11-03T08:01:10.074+02:00       guardianlv.com      US   \n",
       "10315  2016-11-03T01:18:44.835+02:00          thesaker.is      IS   \n",
       "2099   2016-11-20T06:59:15.052+02:00     dailysquib.co.uk      GB   \n",
       "\n",
       "       domain_rank                                       thread_title  \\\n",
       "8765       62759.0      INTERNAL COUP AGAINST HILLARY? | Jason Burack   \n",
       "6284       54210.0                       Neoliberalism’s Border Guard   \n",
       "4232       51784.0  New Play Vicuña Portrays Trump in “Emperor’s N...   \n",
       "10315          NaN                 CrossTalk: Bullhorns Fact-checking   \n",
       "2099           NaN             Globe Still Has Two Months Under Obama   \n",
       "\n",
       "       spam_score                                       main_img_url  \\\n",
       "8765        0.000                                                NaN   \n",
       "6284        0.000                                                NaN   \n",
       "4232        0.081  http://guardianlv.com/wp-content/uploads/2016/...   \n",
       "10315       0.000                                                NaN   \n",
       "2099        0.000  http://www.dailysquib.co.uk/wp-content/uploads...   \n",
       "\n",
       "       replies_count  participants_count  likes  comments  shares type  \n",
       "8765               0                   1      0         0       0   bs  \n",
       "6284               0                   1      0         0       0   bs  \n",
       "4232               0                   1      0         0       0   bs  \n",
       "10315              0                   1      0         0       0   bs  \n",
       "2099               0                   1      0         0       0   bs  "
      ]
     },
     "execution_count": 96,
     "metadata": {},
     "output_type": "execute_result"
    }
   ],
   "source": [
    "from sklearn.model_selection import train_test_split\n",
    "\n",
    "fake_news = fake_news.loc[fake_news['language']=='english']\n",
    "train, test = train_test_split(fake_news, test_size = 0.2)\n",
    "\n",
    "train_E = train\n",
    "test_E = test\n",
    "\n",
    "from nltk.corpus import stopwords \n",
    "train.columns.values\n",
    "test.columns.values\n",
    "\n",
    "train.head()"
   ]
  },
  {
   "cell_type": "code",
   "execution_count": 97,
   "metadata": {
    "collapsed": false
   },
   "outputs": [],
   "source": [
    "import re\n",
    "def refineWords(s):\n",
    "    letters_only = re.sub(\"[^a-zA-Z]\", \" \", s) \n",
    "    words = letters_only.lower().split()\n",
    "    stops = set(stopwords.words(\"english\"))\n",
    "    meaningful_words = [w for w in words if not w in stops]\n",
    "    return( \" \".join( meaningful_words ))\n",
    "\n"
   ]
  },
  {
   "cell_type": "code",
   "execution_count": 98,
   "metadata": {
    "collapsed": false
   },
   "outputs": [
    {
     "name": "stderr",
     "output_type": "stream",
     "text": [
      "/Users/clifford/anaconda/lib/python3.6/site-packages/pandas/core/generic.py:3295: SettingWithCopyWarning: \n",
      "A value is trying to be set on a copy of a slice from a DataFrame\n",
      "\n",
      "See the caveats in the documentation: http://pandas.pydata.org/pandas-docs/stable/indexing.html#indexing-view-versus-copy\n",
      "/Users/clifford/anaconda/lib/python3.6/site-packages/ipykernel/__main__.py:5: SettingWithCopyWarning: \n",
      "A value is trying to be set on a copy of a slice from a DataFrame.\n",
      "Try using .loc[row_indexer,col_indexer] = value instead\n",
      "\n",
      "See the caveats in the documentation: http://pandas.pydata.org/pandas-docs/stable/indexing.html#indexing-view-versus-copy\n",
      "/Users/clifford/anaconda/lib/python3.6/site-packages/ipykernel/__main__.py:7: SettingWithCopyWarning: \n",
      "A value is trying to be set on a copy of a slice from a DataFrame.\n",
      "Try using .loc[row_indexer,col_indexer] = value instead\n",
      "\n",
      "See the caveats in the documentation: http://pandas.pydata.org/pandas-docs/stable/indexing.html#indexing-view-versus-copy\n"
     ]
    }
   ],
   "source": [
    "analyzed = ['text','author','site_url','title','thread_title']\n",
    "\n",
    "for i in analyzed:\n",
    "    test_E[i].fillna(\" \",inplace=True)    \n",
    "    test_E[i] = test_E[i].apply(refineWords)\n",
    "    train_E[i].fillna(\" \",inplace=True)    \n",
    "    train_E[i] = train_E[i].apply(refineWords)"
   ]
  },
  {
   "cell_type": "code",
   "execution_count": 24,
   "metadata": {
    "collapsed": true
   },
   "outputs": [],
   "source": [
    "import nltk"
   ]
  },
  {
   "cell_type": "code",
   "execution_count": 99,
   "metadata": {
    "collapsed": false
   },
   "outputs": [
    {
     "name": "stderr",
     "output_type": "stream",
     "text": [
      "/Users/clifford/anaconda/lib/python3.6/site-packages/ipykernel/__main__.py:5: SettingWithCopyWarning: \n",
      "A value is trying to be set on a copy of a slice from a DataFrame.\n",
      "Try using .loc[row_indexer,col_indexer] = value instead\n",
      "\n",
      "See the caveats in the documentation: http://pandas.pydata.org/pandas-docs/stable/indexing.html#indexing-view-versus-copy\n",
      "/Users/clifford/anaconda/lib/python3.6/site-packages/ipykernel/__main__.py:6: SettingWithCopyWarning: \n",
      "A value is trying to be set on a copy of a slice from a DataFrame.\n",
      "Try using .loc[row_indexer,col_indexer] = value instead\n",
      "\n",
      "See the caveats in the documentation: http://pandas.pydata.org/pandas-docs/stable/indexing.html#indexing-view-versus-copy\n"
     ]
    }
   ],
   "source": [
    "from sklearn.feature_extraction.text import CountVectorizer\n",
    "vectorizer = CountVectorizer(analyzer = \"word\",   \\\n",
    "                             tokenizer = None,    \\\n",
    "                             preprocessor = None, \\\n",
    "                             stop_words = None,   \\\n",
    "                             max_features = 1000) \n",
    "\n",
    "for i in analyzed:\n",
    "    train_E[i] = vectorizer.fit_transform(train_E[i]).toarray()\n",
    "    test_E[i] = vectorizer.fit_transform(test_E[i]).toarray()\n"
   ]
  },
  {
   "cell_type": "code",
   "execution_count": 100,
   "metadata": {
    "collapsed": false
   },
   "outputs": [
    {
     "name": "stderr",
     "output_type": "stream",
     "text": [
      "/Users/clifford/anaconda/lib/python3.6/site-packages/pandas/core/generic.py:3295: SettingWithCopyWarning: \n",
      "A value is trying to be set on a copy of a slice from a DataFrame\n",
      "\n",
      "See the caveats in the documentation: http://pandas.pydata.org/pandas-docs/stable/indexing.html#indexing-view-versus-copy\n"
     ]
    }
   ],
   "source": [
    "train_E[\"domain_rank\"].fillna(train_one.domain_rank.median(axis=0),inplace=True)\n",
    "test_E[\"domain_rank\"].fillna(test_one.domain_rank.median(axis=0),inplace=True)  "
   ]
  },
  {
   "cell_type": "code",
   "execution_count": 101,
   "metadata": {
    "collapsed": true
   },
   "outputs": [],
   "source": [
    "from sklearn.ensemble import RandomForestClassifier\n",
    "rand_forest = RandomForestClassifier(max_depth = 10, min_samples_split=2, n_estimators = 100, random_state = 1)\n",
    "X_train = train_E[[\"text\", \"author\", \"site_url\", \"title\", \"thread_title\",\"domain_rank\"]]\n",
    "my_forest = rand_forest.fit(X_train, train_E[\"type\"])"
   ]
  },
  {
   "cell_type": "code",
   "execution_count": 65,
   "metadata": {
    "collapsed": false
   },
   "outputs": [],
   "source": [
    "from sklearn import metrics"
   ]
  },
  {
   "cell_type": "code",
   "execution_count": 102,
   "metadata": {
    "collapsed": false
   },
   "outputs": [
    {
     "name": "stdout",
     "output_type": "stream",
     "text": [
      "             precision    recall  f1-score   support\n",
      "\n",
      "       bias       1.00      0.93      0.96        98\n",
      "         bs       0.96      0.65      0.78      2160\n",
      " conspiracy       1.00      0.50      0.67        90\n",
      "       fake       1.00      0.33      0.50         3\n",
      "       hate       0.05      0.67      0.09        58\n",
      "    junksci       1.00      1.00      1.00        18\n",
      "     satire       1.00      1.00      1.00        28\n",
      "      state       1.00      0.69      0.82        26\n",
      "\n",
      "avg / total       0.95      0.66      0.77      2481\n",
      "\n"
     ]
    }
   ],
   "source": [
    "X_test = test_E[[\"text\", \"author\", \"site_url\", \"title\", \"thread_title\",\"domain_rank\"]]\n",
    "pred = my_forest.predict(X_test)\n",
    "print(metrics.classification_report(test_E['type'], pred))"
   ]
  },
  {
   "cell_type": "markdown",
   "metadata": {},
   "source": [
    "## Facebook Data"
   ]
  },
  {
   "cell_type": "code",
   "execution_count": 76,
   "metadata": {
    "collapsed": false
   },
   "outputs": [],
   "source": [
    "df_facebook = pd.read_csv('Facebook_scrape1.csv')"
   ]
  },
  {
   "cell_type": "code",
   "execution_count": 77,
   "metadata": {
    "collapsed": true
   },
   "outputs": [],
   "source": [
    "words_Pros = ['Post URL', 'Heading']"
   ]
  },
  {
   "cell_type": "code",
   "execution_count": 79,
   "metadata": {
    "collapsed": false
   },
   "outputs": [],
   "source": [
    "for i in words_Pros:\n",
    "    df_facebook[i].fillna(\" \",inplace=True)    \n",
    "    df_facebook[i] = df_facebook[i].apply(refineWords)\n"
   ]
  },
  {
   "cell_type": "code",
   "execution_count": 80,
   "metadata": {
    "collapsed": false
   },
   "outputs": [
    {
     "name": "stdout",
     "output_type": "stream",
     "text": [
      "<class 'pandas.core.frame.DataFrame'>\n",
      "RangeIndex: 1325 entries, 0 to 1324\n",
      "Data columns (total 14 columns):\n",
      "Unnamed: 0        1325 non-null int64\n",
      "account_id        1325 non-null int64\n",
      "post_id           1325 non-null int64\n",
      "Category          1325 non-null object\n",
      "Page              1325 non-null object\n",
      "Post URL          1325 non-null object\n",
      "Date Published    1325 non-null object\n",
      "Post Type         1325 non-null object\n",
      "Rating            1325 non-null object\n",
      "Debate            150 non-null object\n",
      "share_count       1275 non-null float64\n",
      "reaction_count    1324 non-null float64\n",
      "comment_count     1324 non-null float64\n",
      "Heading           1325 non-null object\n",
      "dtypes: float64(3), int64(3), object(8)\n",
      "memory usage: 145.0+ KB\n"
     ]
    }
   ],
   "source": [
    "df_facebook.info()"
   ]
  },
  {
   "cell_type": "code",
   "execution_count": 81,
   "metadata": {
    "collapsed": false
   },
   "outputs": [
    {
     "data": {
      "text/plain": [
       "'abc news politics comparti el video de abc news politics facebook'"
      ]
     },
     "execution_count": 81,
     "metadata": {},
     "output_type": "execute_result"
    }
   ],
   "source": [
    "df_facebook['Heading'][0]"
   ]
  },
  {
   "cell_type": "code",
   "execution_count": null,
   "metadata": {
    "collapsed": true
   },
   "outputs": [],
   "source": [
    "df1 = dataframe"
   ]
  },
  {
   "cell_type": "code",
   "execution_count": null,
   "metadata": {
    "collapsed": true
   },
   "outputs": [],
   "source": [
    "from sklearn.feature_extraction.text import CountVectorizer\n",
    "\n",
    "# Initialize the \"CountVectorizer\" object, which is scikit-learn's\n",
    "# bag of words tool.  \n",
    "vectorizer = CountVectorizer(analyzer = \"word\",   \\\n",
    "                             tokenizer = None,    \\\n",
    "                             preprocessor = None, \\\n",
    "                             stop_words = None,   \\\n",
    "                             max_features = 1000) \n",
    "\n",
    "# fit_transform() does two functions: First, it fits the model\n",
    "# and learns the vocabulary; second, it transforms our training data\n",
    "# into feature vectors. The input to fit_transform should be a list of \n",
    "# strings.\n",
    "data_features = vectorizer.fit_transform(reviews)\n",
    "\n",
    "# Numpy arrays are easy to work with, so convert the result to an \n",
    "train_data_features = train_data_features.toarray()"
   ]
  }
 ],
 "metadata": {
  "kernelspec": {
   "display_name": "Python 3",
   "language": "python",
   "name": "python3"
  },
  "language_info": {
   "codemirror_mode": {
    "name": "ipython",
    "version": 3
   },
   "file_extension": ".py",
   "mimetype": "text/x-python",
   "name": "python",
   "nbconvert_exporter": "python",
   "pygments_lexer": "ipython3",
   "version": "3.6.0"
  }
 },
 "nbformat": 4,
 "nbformat_minor": 2
}
